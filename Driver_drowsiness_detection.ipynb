{
  "nbformat": 4,
  "nbformat_minor": 0,
  "metadata": {
    "colab": {
      "provenance": []
    },
    "kernelspec": {
      "name": "python3",
      "display_name": "Python 3"
    },
    "language_info": {
      "name": "python"
    },
    "gpuClass": "standard",
    "accelerator": "GPU"
  },
  "cells": [
    {
      "cell_type": "code",
      "source": [
        "from google.colab import drive\n",
        "drive.mount('/content/drive')"
      ],
      "metadata": {
        "colab": {
          "base_uri": "https://localhost:8080/"
        },
        "id": "t9dgHSB5baB1",
        "outputId": "a93b3fd6-cab1-4494-dba9-0e34e1a2e37b"
      },
      "execution_count": null,
      "outputs": [
        {
          "output_type": "stream",
          "name": "stdout",
          "text": [
            "Drive already mounted at /content/drive; to attempt to forcibly remount, call drive.mount(\"/content/drive\", force_remount=True).\n"
          ]
        }
      ]
    },
    {
      "cell_type": "code",
      "source": [
        "pip install face-recognition"
      ],
      "metadata": {
        "colab": {
          "base_uri": "https://localhost:8080/"
        },
        "id": "zPy3ieuKhA_m",
        "outputId": "9d9c5906-6c74-47f2-e9fb-3f319e114f67"
      },
      "execution_count": null,
      "outputs": [
        {
          "output_type": "stream",
          "name": "stdout",
          "text": [
            "Looking in indexes: https://pypi.org/simple, https://us-python.pkg.dev/colab-wheels/public/simple/\n",
            "Collecting face-recognition\n",
            "  Downloading face_recognition-1.3.0-py2.py3-none-any.whl (15 kB)\n",
            "Requirement already satisfied: dlib>=19.7 in /usr/local/lib/python3.7/dist-packages (from face-recognition) (19.24.0)\n",
            "Requirement already satisfied: numpy in /usr/local/lib/python3.7/dist-packages (from face-recognition) (1.21.6)\n",
            "Requirement already satisfied: Click>=6.0 in /usr/local/lib/python3.7/dist-packages (from face-recognition) (7.1.2)\n",
            "Collecting face-recognition-models>=0.3.0\n",
            "  Downloading face_recognition_models-0.3.0.tar.gz (100.1 MB)\n",
            "\u001b[K     |████████████████████████████████| 100.1 MB 25 kB/s \n",
            "\u001b[?25hRequirement already satisfied: Pillow in /usr/local/lib/python3.7/dist-packages (from face-recognition) (7.1.2)\n",
            "Building wheels for collected packages: face-recognition-models\n",
            "  Building wheel for face-recognition-models (setup.py) ... \u001b[?25l\u001b[?25hdone\n",
            "  Created wheel for face-recognition-models: filename=face_recognition_models-0.3.0-py2.py3-none-any.whl size=100566186 sha256=76948114fb1a8c465ca904915fd0fc12a4112d2d5cd04025f42805e400baaa1e\n",
            "  Stored in directory: /root/.cache/pip/wheels/d6/81/3c/884bcd5e1c120ff548d57c2ecc9ebf3281c9a6f7c0e7e7947a\n",
            "Successfully built face-recognition-models\n",
            "Installing collected packages: face-recognition-models, face-recognition\n",
            "Successfully installed face-recognition-1.3.0 face-recognition-models-0.3.0\n"
          ]
        }
      ]
    },
    {
      "cell_type": "code",
      "source": [
        "pip install pygobject"
      ],
      "metadata": {
        "colab": {
          "base_uri": "https://localhost:8080/"
        },
        "id": "bpt0dzkBh58w",
        "outputId": "f41a432a-29b5-4058-b42f-cf391df65260"
      },
      "execution_count": null,
      "outputs": [
        {
          "output_type": "stream",
          "name": "stdout",
          "text": [
            "Looking in indexes: https://pypi.org/simple, https://us-python.pkg.dev/colab-wheels/public/simple/\n",
            "Requirement already satisfied: pygobject in /usr/lib/python3/dist-packages (3.26.1)\n"
          ]
        }
      ]
    },
    {
      "cell_type": "code",
      "source": [
        "os.chdir('/content/drive/MyDrive/Colab Notebooks')"
      ],
      "metadata": {
        "id": "DtdkubueuKH6"
      },
      "execution_count": null,
      "outputs": []
    },
    {
      "cell_type": "code",
      "execution_count": null,
      "metadata": {
        "colab": {
          "base_uri": "https://localhost:8080/"
        },
        "id": "iob2wVlEfSH4",
        "outputId": "93823f55-296f-4be2-dc85-5f0389d88fb6"
      },
      "outputs": [
        {
          "output_type": "stream",
          "name": "stderr",
          "text": [
            "WARNING:playsound:playsound is relying on another python subprocess. Please use `pip install pygobject` if you want playsound to run more efficiently.\n"
          ]
        }
      ],
      "source": [
        "from tensorflow.keras.layers import Conv2D, MaxPooling2D, Dense, Flatten, Dropout\n",
        "from tensorflow.keras.preprocessing.image import ImageDataGenerator\n",
        "from tensorflow.keras.wrappers.scikit_learn import KerasClassifier\n",
        "from tensorflow.keras.models import Sequential, load_model\n",
        "from sklearn.model_selection import train_test_split\n",
        "from tensorflow.keras.utils import to_categorical5\n",
        "from tensorflow.keras.optimizers import Adam\n",
        "from PIL import Image, ImageDraw\n",
        "import matplotlib.pyplot as plt\n",
        "from tensorflow import keras\n",
        "import face_recognition\n",
        "import tensorflow as tf\n",
        "import pandas as pd\n",
        "import numpy as np\n",
        "import random\n",
        "import cv2\n",
        "import os"
      ]
    },
    {
      "cell_type": "markdown",
      "source": [
        "#Parameters"
      ],
      "metadata": {
        "id": "J2S8dru5uW6b"
      }
    },
    {
      "cell_type": "code",
      "source": [
        "batch_size_val = 80  # how many to process together\n",
        "epochs_val = 100\n",
        "noOfClasses=2\n",
        "imageDimensions = (80, 80,3) \n",
        "testRatio = 0.2  # if 1000 images split will 200 for testing\n",
        "validationRatio = 0.2  # if 1000 images 20% of remaining 800 will be 160 for validation"
      ],
      "metadata": {
        "id": "W8jTphZfugIV"
      },
      "execution_count": null,
      "outputs": []
    },
    {
      "cell_type": "code",
      "source": [
        "# FUNCTION FOR LOADING IMAGES\n",
        "def load_images_from_folder(folder, eyes = 0):\n",
        "    count = 0\n",
        "    error_count = 0\n",
        "    images = []\n",
        "    for filename in os.listdir(folder):\n",
        "        try:\n",
        "            img = cv2.imread(os.path.join(folder,filename))\n",
        "            img = cv2.resize(img, (80,80)) ## Resizing the images\n",
        "            ## for eyes if it is 0: open, 1: close\n",
        "            images.append([img, eyes])\n",
        "        except:\n",
        "            error_count += 1\n",
        "            print('ErrorCount = ' + str(error_count))\n",
        "            continue\n",
        "        \n",
        "        count += 1\n",
        "        if count % 1000 == 0:\n",
        "            print('Succesful Image Import Count = ' + str(count))\n",
        "\n",
        "    return images"
      ],
      "metadata": {
        "id": "H1TLw3JdYFo4"
      },
      "execution_count": null,
      "outputs": []
    },
    {
      "cell_type": "markdown",
      "source": [
        "# Open eyes"
      ],
      "metadata": {
        "id": "UuKu1ncdYWm5"
      }
    },
    {
      "cell_type": "code",
      "source": [
        "open_img = r'/content/drive/MyDrive/Colab Notebooks/CROPPED/OPEN'\n",
        "\n",
        "folder = open_img\n",
        "\n",
        "open_eyes = load_images_from_folder(folder, 0)"
      ],
      "metadata": {
        "id": "NFF-sSXDYWeO",
        "colab": {
          "base_uri": "https://localhost:8080/"
        },
        "outputId": "63218405-dfd0-44d4-9752-e0cb7da62b5a"
      },
      "execution_count": null,
      "outputs": [
        {
          "output_type": "stream",
          "name": "stdout",
          "text": [
            "Succesful Image Import Count = 1000\n",
            "Succesful Image Import Count = 2000\n"
          ]
        }
      ]
    },
    {
      "cell_type": "markdown",
      "source": [
        "# Close eyes"
      ],
      "metadata": {
        "id": "zQE0mtEdYih3"
      }
    },
    {
      "cell_type": "code",
      "source": [
        "close_img = r'/content/drive/MyDrive/Colab Notebooks/CROPPED/CLOSE'\n",
        "folder = close_img\n",
        "closed_eyes = load_images_from_folder(folder, 1)"
      ],
      "metadata": {
        "id": "7FejYX-JYnYX",
        "colab": {
          "base_uri": "https://localhost:8080/"
        },
        "outputId": "f97e8cd6-117b-4372-aae3-9648ec1a6fd9"
      },
      "execution_count": null,
      "outputs": [
        {
          "output_type": "stream",
          "name": "stdout",
          "text": [
            "Succesful Image Import Count = 1000\n",
            "Succesful Image Import Count = 2000\n"
          ]
        }
      ]
    },
    {
      "cell_type": "code",
      "source": [
        "eyes = closed_eyes + open_eyes"
      ],
      "metadata": {
        "id": "GKLC9maBY5ea"
      },
      "execution_count": null,
      "outputs": []
    },
    {
      "cell_type": "code",
      "source": [
        "X = [] # IMAGES\n",
        "y = [] # LABELS\n",
        "for features, label in eyes: \n",
        "    X.append(features)\n",
        "    y.append(label)\n",
        "    \n",
        "# NUMPY ARRAY CONVERTION\n",
        "images=np.array(X)    \n",
        "labels=np.array(y)\n",
        "\n",
        "print(\"Total Images\",len(X))  "
      ],
      "metadata": {
        "id": "IIyiCs7aY637",
        "colab": {
          "base_uri": "https://localhost:8080/"
        },
        "outputId": "34f39315-eb99-41e4-a7e4-6ce0b738e47a"
      },
      "execution_count": null,
      "outputs": [
        {
          "output_type": "stream",
          "name": "stdout",
          "text": [
            "Total Images 4382\n"
          ]
        }
      ]
    },
    {
      "cell_type": "markdown",
      "source": [
        "# DATA SPLITTING"
      ],
      "metadata": {
        "id": "jZsD-wLhal5N"
      }
    },
    {
      "cell_type": "code",
      "source": [
        "X_train, X_test, y_train, y_test = train_test_split(images,labels, test_size=testRatio)\n",
        "\n",
        "X_train, X_validation, y_train, y_validation = train_test_split(X_train, y_train, test_size=validationRatio)\n",
        "\n",
        "# X_train = ARRAY OF IMAGES TO TRAIN\n",
        "# y_train = CORRESPONDING CLASS ID"
      ],
      "metadata": {
        "id": "cz3fhLF8aojv"
      },
      "execution_count": null,
      "outputs": []
    },
    {
      "cell_type": "code",
      "source": [
        "# TO CHECK IF NUMBER OF IMAGES MATCHES TO NUMBER OF LABELS FOR EACH DATA SET\n",
        "\n",
        "print(\"Data Shapes\")\n",
        "print(\"Train\", end=\"\")\n",
        "print(X_train.shape, y_train.shape)\n",
        "print(\"Validation\", end=\"\")\n",
        "print(X_validation.shape, y_validation.shape)\n",
        "print(\"Test\", end=\"\")\n",
        "print(X_test.shape, y_test.shape)\n",
        "assert (X_train.shape[0]==y_train.shape[0]), \"The number of images in not equal to the number of lables in training set\"\n",
        "assert (X_validation.shape[0]==y_validation.shape[0]), \"The number of images in not equal to the number of lables in validation set\"\n",
        "assert (X_test.shape[0]==y_test.shape[0]), \"The number of images in not equal to the number of lables in test set\"\n",
        "assert (X_train.shape[1:]==(imageDimensions)),\" The dimesions of the Training images are wrong \"\n",
        "assert (X_validation.shape[1:]==(imageDimensions)),\" The dimesionas of the Validation images are wrong \"\n",
        "assert (X_test.shape[1:]==(imageDimensions)),\" The dimesionas of the Test images are wrong\""
      ],
      "metadata": {
        "id": "993S6ohrayW4",
        "colab": {
          "base_uri": "https://localhost:8080/"
        },
        "outputId": "336a7bc5-9dc9-4028-995a-1e31ef434210"
      },
      "execution_count": null,
      "outputs": [
        {
          "output_type": "stream",
          "name": "stdout",
          "text": [
            "Data Shapes\n",
            "Train(2804, 80, 80, 3) (2804,)\n",
            "Validation(701, 80, 80, 3) (701,)\n",
            "Test(877, 80, 80, 3) (877,)\n"
          ]
        }
      ]
    },
    {
      "cell_type": "markdown",
      "source": [
        "# DATA AUGMENTATION"
      ],
      "metadata": {
        "id": "NRuKS3Cya_17"
      }
    },
    {
      "cell_type": "code",
      "source": [
        "print(\"X_train shape before gray\",X_train.shape)\n",
        "\n",
        "def grayscale(img):\n",
        "    img = cv2.cvtColor(img, cv2.COLOR_BGR2GRAY)\n",
        "    return img\n",
        "\n",
        "\n",
        "def equalize(img):\n",
        "    img = cv2.equalizeHist(img)\n",
        "    return img\n",
        "\n",
        "\n",
        "def preprocessing(img):\n",
        "    img = grayscale(img)  # CONVERT TO GRAYSCALE\n",
        "    img = equalize(img)  # STANDARDIZE THE LIGHTING IN AN IMAGE\n",
        "    img = img / 255  # TO NORMALIZE VALUES BETWEEN 0 AND 1 INSTEAD OF 0 TO 255\n",
        "    return img\n",
        "\n",
        "\n",
        "X_train = np.array(list(map(preprocessing, X_train)))  # TO IRETATE AND PREPROCESS ALL IMAGES\n",
        "X_validation = np.array(list(map(preprocessing, X_validation)))\n",
        "X_test = np.array(list(map(preprocessing, X_test)))\n",
        "print(\"X_train shape after gray\",X_train.shape)\n",
        "\n",
        "\n",
        "# ADDING A DEPTH OF 1 (grayscale)\n",
        "X_train = X_train.reshape(X_train.shape[0],X_train.shape[1],X_train.shape[2],1)\n",
        "X_validation = X_validation.reshape(X_validation.shape[0],X_validation.shape[1],X_validation.shape[2],1)\n",
        "X_test = X_test.reshape(X_test.shape[0],X_test.shape[1],X_test.shape[2],1)\n",
        "print(\"X_train shape after depth\",X_train.shape)\n",
        "\n",
        "\n",
        "# AUGMENTATAION OF IMAGES: TO MAKEIT MORE GENERIC\n",
        "dataGen = ImageDataGenerator(width_shift_range=0.1,\n",
        "                             # 0.1 = 10%     IF MORE THAN 1 E.G 10 THEN IT REFFERS TO NO. OF  PIXELS EG 10 PIXELS\n",
        "                             height_shift_range=0.1,\n",
        "                             zoom_range=0.2,  # 0.2 MEANS CAN GO FROM 0.8 TO 1.2\n",
        "                             shear_range=0.1,  # MAGNITUDE OF SHEAR ANGLE\n",
        "                             rotation_range=10)  # DEGREES\n",
        "\n",
        "dataGen.fit(X_train)\n",
        "batches = dataGen.flow(X_train, y_train,batch_size=20)  # REQUESTING DATA GENRATOR TO GENERATE IMAGES  BATCH SIZE = NO. OF IMAGES CREAED EACH TIME ITS CALLED\n",
        "X_batch, y_batch = next(batches)\n",
        "\n",
        "\n",
        "#One hot encoding\n",
        "y_train = to_categorical(y_train, noOfClasses)\n",
        "y_validation = to_categorical(y_validation, noOfClasses)\n",
        "y_test = to_categorical(y_test, noOfClasses)"
      ],
      "metadata": {
        "id": "idVVn32GbCgr",
        "colab": {
          "base_uri": "https://localhost:8080/"
        },
        "outputId": "ff705b48-7c12-4fad-ab3b-914c9ce24253"
      },
      "execution_count": null,
      "outputs": [
        {
          "output_type": "stream",
          "name": "stdout",
          "text": [
            "X_train shape before gray (2804, 80, 80, 3)\n",
            "X_train shape after gray (2804, 80, 80)\n",
            "X_train shape after depth (2804, 80, 80, 1)\n"
          ]
        }
      ]
    },
    {
      "cell_type": "markdown",
      "source": [
        "# MODEL"
      ],
      "metadata": {
        "id": "fCj2diwVbdbs"
      }
    },
    {
      "cell_type": "code",
      "source": [
        "def my_Model():   \n",
        "    \n",
        "    # Instantiate the model\n",
        "    model = Sequential()\n",
        "\n",
        "    # Adding first three convolutional layers\n",
        "    model.add(Conv2D( \n",
        "                    filters = 32, # number of filters\n",
        "                    kernel_size = (3,3), # height/width of filter\n",
        "                    activation = 'relu',\n",
        "                    input_shape = (imageDimesions[0],imageDimesions[1],1) # shape of input (image)\n",
        "                    ))\n",
        "    model.add(Conv2D(\n",
        "                    filters = 32, # number of filters\n",
        "                    kernel_size = (3,3), # height/width of filter\n",
        "                    activation = 'relu' # activation function \n",
        "                    ))\n",
        "    model.add(Conv2D(\n",
        "                    filters = 32, # number of filters\n",
        "                    kernel_size = (3,3), # height/width of filter\n",
        "                    activation = 'relu' # activation function \n",
        "                    ))\n",
        "    \n",
        "    # Adding pooling after convolutional layers\n",
        "    model.add(MaxPooling2D(pool_size = (2,2))) # Dimensions of the region that you are pooling\n",
        "\n",
        "    # Adding second set of convolutional layers\n",
        "    model.add(Conv2D(\n",
        "                    filters = 32, # number of filters\n",
        "                    kernel_size = (3,3), # height/width of filter\n",
        "                    activation = 'relu' # activation function \n",
        "                    ))\n",
        "    model.add(Conv2D(\n",
        "                    filters = 32, # number of filters\n",
        "                    kernel_size = (3,3), # height/width of filter\n",
        "                    activation = 'relu' # activation function \n",
        "                    ))\n",
        "    \n",
        "    # Add last pooling layer.\n",
        "    model.add(MaxPooling2D(pool_size=(2,2)))\n",
        "\n",
        "    model.add(Flatten())\n",
        "\n",
        "    # Adding first dense layer with 256 nodes\n",
        "    model.add(Dense(256, activation='relu'))\n",
        "\n",
        "    # Adding a dropout layer to avoid overfitting\n",
        "    model.add(Dropout(0.3))\n",
        "\n",
        "    model.add(Dense(128, activation='relu'))\n",
        "    model.add(Dropout(0.3)) \n",
        "\n",
        "    model.add(Dense(64, activation='relu'))\n",
        "    model.add(Dropout(0.3))\n",
        "\n",
        "    # adding output layer\n",
        "    model.add(Dense(2, activation = 'sigmoid'))\n",
        "\n",
        "    # compiling the model\n",
        "    model.compile(Adam(lr=0.001), loss='binary_crossentropy', metrics=['accuracy'])\n",
        "    return model"
      ],
      "metadata": {
        "id": "kvuoMJlobfeb"
      },
      "execution_count": null,
      "outputs": []
    },
    {
      "cell_type": "markdown",
      "source": [
        "# TRAINING"
      ],
      "metadata": {
        "id": "5oufcw58bvf7"
      }
    },
    {
      "cell_type": "code",
      "source": [
        "model = my_Model()\n",
        "print(model.summary())\n",
        "# FITTING\n",
        "history = model.fit(dataGen.flow(X_train, y_train, batch_size=batch_size_val),steps_per_epoch= len(X_train)//batch_size_val, epochs=epochs_val,validation_data=(X_validation, y_validation), shuffle=1)\n"
      ],
      "metadata": {
        "id": "NjsOd--obxTx",
        "colab": {
          "base_uri": "https://localhost:8080/"
        },
        "outputId": "88b45b70-25e5-4a58-e442-36cb507c7c6e"
      },
      "execution_count": null,
      "outputs": [
        {
          "output_type": "stream",
          "name": "stdout",
          "text": [
            "Model: \"sequential_1\"\n",
            "_________________________________________________________________\n",
            " Layer (type)                Output Shape              Param #   \n",
            "=================================================================\n",
            " conv2d_5 (Conv2D)           (None, 78, 78, 32)        320       \n",
            "                                                                 \n",
            " conv2d_6 (Conv2D)           (None, 76, 76, 32)        9248      \n",
            "                                                                 \n",
            " conv2d_7 (Conv2D)           (None, 74, 74, 32)        9248      \n",
            "                                                                 \n",
            " max_pooling2d_2 (MaxPooling  (None, 37, 37, 32)       0         \n",
            " 2D)                                                             \n",
            "                                                                 \n",
            " conv2d_8 (Conv2D)           (None, 35, 35, 32)        9248      \n",
            "                                                                 \n",
            " conv2d_9 (Conv2D)           (None, 33, 33, 32)        9248      \n",
            "                                                                 \n",
            " max_pooling2d_3 (MaxPooling  (None, 16, 16, 32)       0         \n",
            " 2D)                                                             \n",
            "                                                                 \n",
            " flatten_1 (Flatten)         (None, 8192)              0         \n",
            "                                                                 \n",
            " dense_4 (Dense)             (None, 256)               2097408   \n",
            "                                                                 \n",
            " dropout_3 (Dropout)         (None, 256)               0         \n",
            "                                                                 \n",
            " dense_5 (Dense)             (None, 128)               32896     \n",
            "                                                                 \n",
            " dropout_4 (Dropout)         (None, 128)               0         \n",
            "                                                                 \n",
            " dense_6 (Dense)             (None, 64)                8256      \n",
            "                                                                 \n",
            " dropout_5 (Dropout)         (None, 64)                0         \n",
            "                                                                 \n",
            " dense_7 (Dense)             (None, 2)                 130       \n",
            "                                                                 \n",
            "=================================================================\n",
            "Total params: 2,176,002\n",
            "Trainable params: 2,176,002\n",
            "Non-trainable params: 0\n",
            "_________________________________________________________________\n"
          ]
        },
        {
          "output_type": "stream",
          "name": "stderr",
          "text": [
            "/usr/local/lib/python3.7/dist-packages/keras/optimizer_v2/adam.py:105: UserWarning: The `lr` argument is deprecated, use `learning_rate` instead.\n",
            "  super(Adam, self).__init__(name, **kwargs)\n"
          ]
        },
        {
          "output_type": "stream",
          "name": "stdout",
          "text": [
            "None\n",
            "Epoch 1/100\n",
            "35/35 [==============================] - 5s 112ms/step - loss: 0.6699 - accuracy: 0.5639 - val_loss: 0.5410 - val_accuracy: 0.7475\n",
            "Epoch 2/100\n",
            "35/35 [==============================] - 2s 67ms/step - loss: 0.5715 - accuracy: 0.7300 - val_loss: 0.4921 - val_accuracy: 0.7946\n",
            "Epoch 3/100\n",
            "35/35 [==============================] - 2s 65ms/step - loss: 0.4944 - accuracy: 0.7797 - val_loss: 0.3158 - val_accuracy: 0.8759\n",
            "Epoch 4/100\n",
            "35/35 [==============================] - 2s 65ms/step - loss: 0.4068 - accuracy: 0.8289 - val_loss: 0.2871 - val_accuracy: 0.8816\n",
            "Epoch 5/100\n",
            "35/35 [==============================] - 2s 65ms/step - loss: 0.3418 - accuracy: 0.8590 - val_loss: 0.2282 - val_accuracy: 0.9230\n",
            "Epoch 6/100\n",
            "35/35 [==============================] - 2s 65ms/step - loss: 0.3487 - accuracy: 0.8572 - val_loss: 0.2215 - val_accuracy: 0.9201\n",
            "Epoch 7/100\n",
            "35/35 [==============================] - 2s 65ms/step - loss: 0.3370 - accuracy: 0.8594 - val_loss: 0.2176 - val_accuracy: 0.9130\n",
            "Epoch 8/100\n",
            "35/35 [==============================] - 2s 66ms/step - loss: 0.2629 - accuracy: 0.8946 - val_loss: 0.1663 - val_accuracy: 0.9344\n",
            "Epoch 9/100\n",
            "35/35 [==============================] - 2s 66ms/step - loss: 0.2808 - accuracy: 0.8829 - val_loss: 0.2231 - val_accuracy: 0.8973\n",
            "Epoch 10/100\n",
            "35/35 [==============================] - 2s 66ms/step - loss: 0.2536 - accuracy: 0.8946 - val_loss: 0.1672 - val_accuracy: 0.9330\n",
            "Epoch 11/100\n",
            "35/35 [==============================] - 2s 65ms/step - loss: 0.2372 - accuracy: 0.9016 - val_loss: 0.1620 - val_accuracy: 0.9344\n",
            "Epoch 12/100\n",
            "35/35 [==============================] - 2s 64ms/step - loss: 0.2513 - accuracy: 0.8965 - val_loss: 0.1560 - val_accuracy: 0.9429\n",
            "Epoch 13/100\n",
            "35/35 [==============================] - 2s 66ms/step - loss: 0.2004 - accuracy: 0.9222 - val_loss: 0.1989 - val_accuracy: 0.9258\n",
            "Epoch 14/100\n",
            "35/35 [==============================] - 2s 66ms/step - loss: 0.2156 - accuracy: 0.9148 - val_loss: 0.1538 - val_accuracy: 0.9415\n",
            "Epoch 15/100\n",
            "35/35 [==============================] - 2s 64ms/step - loss: 0.2066 - accuracy: 0.9196 - val_loss: 0.1495 - val_accuracy: 0.9458\n",
            "Epoch 16/100\n",
            "35/35 [==============================] - 2s 65ms/step - loss: 0.1893 - accuracy: 0.9284 - val_loss: 0.1681 - val_accuracy: 0.9387\n",
            "Epoch 17/100\n",
            "35/35 [==============================] - 2s 65ms/step - loss: 0.1788 - accuracy: 0.9244 - val_loss: 0.1791 - val_accuracy: 0.9272\n",
            "Epoch 18/100\n",
            "35/35 [==============================] - 2s 66ms/step - loss: 0.1808 - accuracy: 0.9314 - val_loss: 0.1344 - val_accuracy: 0.9558\n",
            "Epoch 19/100\n",
            "35/35 [==============================] - 2s 64ms/step - loss: 0.1533 - accuracy: 0.9413 - val_loss: 0.1396 - val_accuracy: 0.9444\n",
            "Epoch 20/100\n",
            "35/35 [==============================] - 2s 64ms/step - loss: 0.1555 - accuracy: 0.9424 - val_loss: 0.1750 - val_accuracy: 0.9387\n",
            "Epoch 21/100\n",
            "35/35 [==============================] - 2s 64ms/step - loss: 0.1608 - accuracy: 0.9413 - val_loss: 0.1538 - val_accuracy: 0.9486\n",
            "Epoch 22/100\n",
            "35/35 [==============================] - 2s 65ms/step - loss: 0.1548 - accuracy: 0.9435 - val_loss: 0.1622 - val_accuracy: 0.9315\n",
            "Epoch 23/100\n",
            "35/35 [==============================] - 2s 65ms/step - loss: 0.1458 - accuracy: 0.9457 - val_loss: 0.1348 - val_accuracy: 0.9544\n",
            "Epoch 24/100\n",
            "35/35 [==============================] - 2s 65ms/step - loss: 0.1501 - accuracy: 0.9413 - val_loss: 0.1307 - val_accuracy: 0.9558\n",
            "Epoch 25/100\n",
            "35/35 [==============================] - 2s 65ms/step - loss: 0.1532 - accuracy: 0.9398 - val_loss: 0.1483 - val_accuracy: 0.9586\n",
            "Epoch 26/100\n",
            "35/35 [==============================] - 2s 65ms/step - loss: 0.1390 - accuracy: 0.9468 - val_loss: 0.1561 - val_accuracy: 0.9572\n",
            "Epoch 27/100\n",
            "35/35 [==============================] - 2s 65ms/step - loss: 0.2004 - accuracy: 0.9218 - val_loss: 0.2148 - val_accuracy: 0.9144\n",
            "Epoch 28/100\n",
            "35/35 [==============================] - 2s 65ms/step - loss: 0.1875 - accuracy: 0.9229 - val_loss: 0.1401 - val_accuracy: 0.9486\n",
            "Epoch 29/100\n",
            "35/35 [==============================] - 2s 64ms/step - loss: 0.1533 - accuracy: 0.9427 - val_loss: 0.1420 - val_accuracy: 0.9458\n",
            "Epoch 30/100\n",
            "35/35 [==============================] - 2s 66ms/step - loss: 0.1606 - accuracy: 0.9347 - val_loss: 0.1339 - val_accuracy: 0.9544\n",
            "Epoch 31/100\n",
            "35/35 [==============================] - 2s 67ms/step - loss: 0.1450 - accuracy: 0.9464 - val_loss: 0.1493 - val_accuracy: 0.9472\n",
            "Epoch 32/100\n",
            "35/35 [==============================] - 2s 67ms/step - loss: 0.1441 - accuracy: 0.9427 - val_loss: 0.1437 - val_accuracy: 0.9515\n",
            "Epoch 33/100\n",
            "35/35 [==============================] - 2s 71ms/step - loss: 0.1398 - accuracy: 0.9479 - val_loss: 0.1337 - val_accuracy: 0.9586\n",
            "Epoch 34/100\n",
            "35/35 [==============================] - 2s 66ms/step - loss: 0.1174 - accuracy: 0.9570 - val_loss: 0.1417 - val_accuracy: 0.9558\n",
            "Epoch 35/100\n",
            "35/35 [==============================] - 2s 65ms/step - loss: 0.1246 - accuracy: 0.9541 - val_loss: 0.1405 - val_accuracy: 0.9615\n",
            "Epoch 36/100\n",
            "35/35 [==============================] - 2s 65ms/step - loss: 0.1037 - accuracy: 0.9589 - val_loss: 0.1791 - val_accuracy: 0.9486\n",
            "Epoch 37/100\n",
            "35/35 [==============================] - 3s 92ms/step - loss: 0.1178 - accuracy: 0.9534 - val_loss: 0.1467 - val_accuracy: 0.9486\n",
            "Epoch 38/100\n",
            "35/35 [==============================] - 2s 66ms/step - loss: 0.1183 - accuracy: 0.9541 - val_loss: 0.1370 - val_accuracy: 0.9558\n",
            "Epoch 39/100\n",
            "35/35 [==============================] - 2s 66ms/step - loss: 0.1137 - accuracy: 0.9567 - val_loss: 0.1723 - val_accuracy: 0.9472\n",
            "Epoch 40/100\n",
            "35/35 [==============================] - 2s 66ms/step - loss: 0.1422 - accuracy: 0.9449 - val_loss: 0.1436 - val_accuracy: 0.9515\n",
            "Epoch 41/100\n",
            "35/35 [==============================] - 2s 65ms/step - loss: 0.1113 - accuracy: 0.9589 - val_loss: 0.1540 - val_accuracy: 0.9544\n",
            "Epoch 42/100\n",
            "35/35 [==============================] - 2s 65ms/step - loss: 0.1342 - accuracy: 0.9563 - val_loss: 0.1897 - val_accuracy: 0.9358\n",
            "Epoch 43/100\n",
            "35/35 [==============================] - 2s 68ms/step - loss: 0.1187 - accuracy: 0.9559 - val_loss: 0.1528 - val_accuracy: 0.9501\n",
            "Epoch 44/100\n",
            "35/35 [==============================] - 2s 65ms/step - loss: 0.1107 - accuracy: 0.9548 - val_loss: 0.1485 - val_accuracy: 0.9572\n",
            "Epoch 45/100\n",
            "35/35 [==============================] - 2s 65ms/step - loss: 0.0885 - accuracy: 0.9670 - val_loss: 0.1672 - val_accuracy: 0.9544\n",
            "Epoch 46/100\n",
            "35/35 [==============================] - 2s 66ms/step - loss: 0.1035 - accuracy: 0.9615 - val_loss: 0.1526 - val_accuracy: 0.9544\n",
            "Epoch 47/100\n",
            "35/35 [==============================] - 2s 64ms/step - loss: 0.1103 - accuracy: 0.9574 - val_loss: 0.1517 - val_accuracy: 0.9472\n",
            "Epoch 48/100\n",
            "35/35 [==============================] - 2s 65ms/step - loss: 0.1053 - accuracy: 0.9581 - val_loss: 0.1369 - val_accuracy: 0.9586\n",
            "Epoch 49/100\n",
            "35/35 [==============================] - 2s 64ms/step - loss: 0.1088 - accuracy: 0.9578 - val_loss: 0.1468 - val_accuracy: 0.9586\n",
            "Epoch 50/100\n",
            "35/35 [==============================] - 2s 66ms/step - loss: 0.0994 - accuracy: 0.9604 - val_loss: 0.1688 - val_accuracy: 0.9415\n",
            "Epoch 51/100\n",
            "35/35 [==============================] - 2s 67ms/step - loss: 0.0996 - accuracy: 0.9648 - val_loss: 0.1522 - val_accuracy: 0.9544\n",
            "Epoch 52/100\n",
            "35/35 [==============================] - 2s 65ms/step - loss: 0.0811 - accuracy: 0.9695 - val_loss: 0.1950 - val_accuracy: 0.9486\n",
            "Epoch 53/100\n",
            "35/35 [==============================] - 2s 66ms/step - loss: 0.1001 - accuracy: 0.9648 - val_loss: 0.1522 - val_accuracy: 0.9572\n",
            "Epoch 54/100\n",
            "35/35 [==============================] - 2s 65ms/step - loss: 0.0927 - accuracy: 0.9615 - val_loss: 0.1719 - val_accuracy: 0.9358\n",
            "Epoch 55/100\n",
            "35/35 [==============================] - 2s 67ms/step - loss: 0.1066 - accuracy: 0.9596 - val_loss: 0.1437 - val_accuracy: 0.9615\n",
            "Epoch 56/100\n",
            "35/35 [==============================] - 2s 66ms/step - loss: 0.0963 - accuracy: 0.9651 - val_loss: 0.1678 - val_accuracy: 0.9515\n",
            "Epoch 57/100\n",
            "35/35 [==============================] - 2s 68ms/step - loss: 0.0940 - accuracy: 0.9659 - val_loss: 0.1387 - val_accuracy: 0.9572\n",
            "Epoch 58/100\n",
            "35/35 [==============================] - 2s 67ms/step - loss: 0.0998 - accuracy: 0.9626 - val_loss: 0.1449 - val_accuracy: 0.9544\n",
            "Epoch 59/100\n",
            "35/35 [==============================] - 2s 66ms/step - loss: 0.0885 - accuracy: 0.9615 - val_loss: 0.1651 - val_accuracy: 0.9558\n",
            "Epoch 60/100\n",
            "35/35 [==============================] - 2s 66ms/step - loss: 0.0853 - accuracy: 0.9699 - val_loss: 0.1527 - val_accuracy: 0.9529\n",
            "Epoch 61/100\n",
            "35/35 [==============================] - 2s 66ms/step - loss: 0.0864 - accuracy: 0.9651 - val_loss: 0.1599 - val_accuracy: 0.9586\n",
            "Epoch 62/100\n",
            "35/35 [==============================] - 2s 66ms/step - loss: 0.0793 - accuracy: 0.9688 - val_loss: 0.1597 - val_accuracy: 0.9601\n",
            "Epoch 63/100\n",
            "35/35 [==============================] - 2s 65ms/step - loss: 0.0862 - accuracy: 0.9684 - val_loss: 0.1550 - val_accuracy: 0.9529\n",
            "Epoch 64/100\n",
            "35/35 [==============================] - 2s 65ms/step - loss: 0.1031 - accuracy: 0.9615 - val_loss: 0.1549 - val_accuracy: 0.9515\n",
            "Epoch 65/100\n",
            "35/35 [==============================] - 2s 68ms/step - loss: 0.1053 - accuracy: 0.9618 - val_loss: 0.1583 - val_accuracy: 0.9529\n",
            "Epoch 66/100\n",
            "35/35 [==============================] - 2s 66ms/step - loss: 0.0843 - accuracy: 0.9677 - val_loss: 0.1471 - val_accuracy: 0.9586\n",
            "Epoch 67/100\n",
            "35/35 [==============================] - 2s 68ms/step - loss: 0.0812 - accuracy: 0.9681 - val_loss: 0.1582 - val_accuracy: 0.9515\n",
            "Epoch 68/100\n",
            "35/35 [==============================] - 2s 66ms/step - loss: 0.0740 - accuracy: 0.9761 - val_loss: 0.1546 - val_accuracy: 0.9529\n",
            "Epoch 69/100\n",
            "35/35 [==============================] - 2s 66ms/step - loss: 0.0712 - accuracy: 0.9758 - val_loss: 0.1572 - val_accuracy: 0.9643\n",
            "Epoch 70/100\n",
            "35/35 [==============================] - 2s 66ms/step - loss: 0.0838 - accuracy: 0.9677 - val_loss: 0.1416 - val_accuracy: 0.9601\n",
            "Epoch 71/100\n",
            "35/35 [==============================] - 2s 65ms/step - loss: 0.0741 - accuracy: 0.9717 - val_loss: 0.1438 - val_accuracy: 0.9615\n",
            "Epoch 72/100\n",
            "35/35 [==============================] - 3s 84ms/step - loss: 0.0829 - accuracy: 0.9692 - val_loss: 0.1499 - val_accuracy: 0.9529\n",
            "Epoch 73/100\n",
            "35/35 [==============================] - 3s 86ms/step - loss: 0.0626 - accuracy: 0.9761 - val_loss: 0.1821 - val_accuracy: 0.9515\n",
            "Epoch 74/100\n",
            "35/35 [==============================] - 2s 65ms/step - loss: 0.0607 - accuracy: 0.9783 - val_loss: 0.1822 - val_accuracy: 0.9572\n",
            "Epoch 75/100\n",
            "35/35 [==============================] - 2s 65ms/step - loss: 0.1036 - accuracy: 0.9600 - val_loss: 0.1782 - val_accuracy: 0.9429\n",
            "Epoch 76/100\n",
            "35/35 [==============================] - 2s 65ms/step - loss: 0.0903 - accuracy: 0.9626 - val_loss: 0.2021 - val_accuracy: 0.9444\n",
            "Epoch 77/100\n",
            "35/35 [==============================] - 2s 65ms/step - loss: 0.0894 - accuracy: 0.9666 - val_loss: 0.1627 - val_accuracy: 0.9501\n",
            "Epoch 78/100\n",
            "35/35 [==============================] - 2s 65ms/step - loss: 0.1077 - accuracy: 0.9548 - val_loss: 0.1564 - val_accuracy: 0.9472\n",
            "Epoch 79/100\n",
            "35/35 [==============================] - 2s 66ms/step - loss: 0.0807 - accuracy: 0.9736 - val_loss: 0.1437 - val_accuracy: 0.9601\n",
            "Epoch 80/100\n",
            "35/35 [==============================] - 2s 65ms/step - loss: 0.0770 - accuracy: 0.9710 - val_loss: 0.1604 - val_accuracy: 0.9544\n",
            "Epoch 81/100\n",
            "35/35 [==============================] - 2s 66ms/step - loss: 0.0705 - accuracy: 0.9732 - val_loss: 0.1662 - val_accuracy: 0.9529\n",
            "Epoch 82/100\n",
            "35/35 [==============================] - 2s 66ms/step - loss: 0.0593 - accuracy: 0.9780 - val_loss: 0.1980 - val_accuracy: 0.9486\n",
            "Epoch 83/100\n",
            "35/35 [==============================] - 2s 65ms/step - loss: 0.0694 - accuracy: 0.9721 - val_loss: 0.1833 - val_accuracy: 0.9529\n",
            "Epoch 84/100\n",
            "35/35 [==============================] - 2s 66ms/step - loss: 0.0805 - accuracy: 0.9743 - val_loss: 0.1579 - val_accuracy: 0.9472\n",
            "Epoch 85/100\n",
            "35/35 [==============================] - 2s 65ms/step - loss: 0.0632 - accuracy: 0.9772 - val_loss: 0.1591 - val_accuracy: 0.9572\n",
            "Epoch 86/100\n",
            "35/35 [==============================] - 2s 65ms/step - loss: 0.0726 - accuracy: 0.9703 - val_loss: 0.1932 - val_accuracy: 0.9529\n",
            "Epoch 87/100\n",
            "35/35 [==============================] - 2s 65ms/step - loss: 0.0855 - accuracy: 0.9666 - val_loss: 0.1484 - val_accuracy: 0.9472\n",
            "Epoch 88/100\n",
            "35/35 [==============================] - 2s 64ms/step - loss: 0.0639 - accuracy: 0.9747 - val_loss: 0.1454 - val_accuracy: 0.9615\n",
            "Epoch 89/100\n",
            "35/35 [==============================] - 2s 65ms/step - loss: 0.0885 - accuracy: 0.9677 - val_loss: 0.1339 - val_accuracy: 0.9544\n",
            "Epoch 90/100\n",
            "35/35 [==============================] - 2s 65ms/step - loss: 0.0634 - accuracy: 0.9739 - val_loss: 0.1444 - val_accuracy: 0.9558\n",
            "Epoch 91/100\n",
            "35/35 [==============================] - 2s 65ms/step - loss: 0.0608 - accuracy: 0.9780 - val_loss: 0.1808 - val_accuracy: 0.9472\n",
            "Epoch 92/100\n",
            "35/35 [==============================] - 2s 65ms/step - loss: 0.0492 - accuracy: 0.9802 - val_loss: 0.1974 - val_accuracy: 0.9429\n",
            "Epoch 93/100\n",
            "35/35 [==============================] - 2s 66ms/step - loss: 0.0687 - accuracy: 0.9750 - val_loss: 0.1387 - val_accuracy: 0.9558\n",
            "Epoch 94/100\n",
            "35/35 [==============================] - 2s 65ms/step - loss: 0.0552 - accuracy: 0.9802 - val_loss: 0.1721 - val_accuracy: 0.9572\n",
            "Epoch 95/100\n",
            "35/35 [==============================] - 2s 67ms/step - loss: 0.0576 - accuracy: 0.9805 - val_loss: 0.1521 - val_accuracy: 0.9572\n",
            "Epoch 96/100\n",
            "35/35 [==============================] - 2s 66ms/step - loss: 0.0621 - accuracy: 0.9780 - val_loss: 0.1366 - val_accuracy: 0.9586\n",
            "Epoch 97/100\n",
            "35/35 [==============================] - 2s 67ms/step - loss: 0.0555 - accuracy: 0.9805 - val_loss: 0.1773 - val_accuracy: 0.9572\n",
            "Epoch 98/100\n",
            "35/35 [==============================] - 2s 65ms/step - loss: 0.0577 - accuracy: 0.9772 - val_loss: 0.1479 - val_accuracy: 0.9572\n",
            "Epoch 99/100\n",
            "35/35 [==============================] - 2s 66ms/step - loss: 0.0705 - accuracy: 0.9758 - val_loss: 0.1685 - val_accuracy: 0.9643\n",
            "Epoch 100/100\n",
            "35/35 [==============================] - 2s 66ms/step - loss: 0.0704 - accuracy: 0.9739 - val_loss: 0.1580 - val_accuracy: 0.9572\n"
          ]
        }
      ]
    },
    {
      "cell_type": "code",
      "source": [
        "# PLOT\n",
        "plt.figure(0)\n",
        "plt.plot(history.history['loss'])\n",
        "plt.plot(history.history['val_loss'])\n",
        "plt.legend(['training','validation'])\n",
        "plt.title('loss')\n",
        "plt.xlabel('epoch')\n",
        "\n",
        "\n",
        "plt.figure(1)\n",
        "plt.plot(history.history['accuracy'])\n",
        "plt.plot(history.history['val_accuracy'])\n",
        "plt.legend(['training','validation'])\n",
        "plt.title('Accuracy')\n",
        "plt.xlabel('epoch')\n",
        "plt.show()\n"
      ],
      "metadata": {
        "id": "uVgtEeimeU3j",
        "colab": {
          "base_uri": "https://localhost:8080/",
          "height": 573
        },
        "outputId": "f56f11b9-4aae-4fa8-9d8b-9c8bf4ca7f2d"
      },
      "execution_count": null,
      "outputs": [
        {
          "output_type": "display_data",
          "data": {
            "text/plain": [
              "<Figure size 432x288 with 1 Axes>"
            ],
            "image/png": "[encoded data removed]"
          },
          "metadata": {
            "needs_background": "light"
          }
        },
        {
          "output_type": "display_data",
          "data": {
            "text/plain": [
              "<Figure size 432x288 with 1 Axes>"
            ],
            "image/png": "[encoded data removed]"
          },
          "metadata": {
            "needs_background": "light"
          }
        }
      ]
    },
    {
      "cell_type": "code",
      "source": [
        "score = model.evaluate(X_test, y_test, verbose=1)\n",
        "\n",
        "print('Test Score:', score[0])\n",
        "print('Test Accuracy:', score[1])"
      ],
      "metadata": {
        "id": "SmqY_gRueajh",
        "colab": {
          "base_uri": "https://localhost:8080/"
        },
        "outputId": "5a4c3527-4c91-48c9-bdf9-6cc899b82763"
      },
      "execution_count": null,
      "outputs": [
        {
          "output_type": "stream",
          "name": "stdout",
          "text": [
            "28/28 [==============================] - 0s 13ms/step - loss: 0.1185 - accuracy: 0.9704\n",
            "Test Score: 0.11851533502340317\n",
            "Test Accuracy: 0.9703534841537476\n"
          ]
        }
      ]
    },
    {
      "cell_type": "code",
      "source": [
        "model.save('drowsiness_check.h5')"
      ],
      "metadata": {
        "id": "1BsyNZleecM3"
      },
      "execution_count": null,
      "outputs": []
    }
  ]
}