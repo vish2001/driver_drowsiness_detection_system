{
 "cells": [
  {
   "cell_type": "code",
   "execution_count": 1,
   "id": "f4e13f4b",
   "metadata": {
    "scrolled": true
   },
   "outputs": [
    {
     "name": "stderr",
     "output_type": "stream",
     "text": [
      "/home/vishy/anaconda3/envs/tf/lib/python3.9/site-packages/scipy/__init__.py:146: UserWarning: A NumPy version >=1.16.5 and <1.23.0 is required for this version of SciPy (detected version 1.23.1\n",
      "  warnings.warn(f\"A NumPy version >={np_minversion} and <{np_maxversion}\"\n"
     ]
    }
   ],
   "source": [
    "import tensorflow as tf"
   ]
  },
  {
   "cell_type": "code",
   "execution_count": 2,
   "id": "0764fb1f",
   "metadata": {},
   "outputs": [],
   "source": [
    "import cv2\n",
    "import numpy as np\n",
    "import os\n",
    "from PIL import Image, ImageDraw\n",
    "import face_recognition\n",
    "from tensorflow import keras"
   ]
  },
  {
   "cell_type": "code",
   "execution_count": 3,
   "id": "b5fa64ea",
   "metadata": {
    "scrolled": false
   },
   "outputs": [
    {
     "name": "stderr",
     "output_type": "stream",
     "text": [
      "2022-08-19 22:05:44.707544: I tensorflow/core/platform/cpu_feature_guard.cc:151] This TensorFlow binary is optimized with oneAPI Deep Neural Network Library (oneDNN) to use the following CPU instructions in performance-critical operations:  SSE4.1 SSE4.2 AVX AVX2 FMA\n",
      "To enable them in other operations, rebuild TensorFlow with the appropriate compiler flags.\n",
      "2022-08-19 22:05:44.708337: I tensorflow/core/common_runtime/process_util.cc:146] Creating new thread pool with default inter op setting: 2. Tune using inter_op_parallelism_threads for best performance.\n"
     ]
    }
   ],
   "source": [
    "eye_model = keras.models.load_model('drowsiness_check.h5')"
   ]
  },
  {
   "cell_type": "code",
   "execution_count": null,
   "id": "2158fc0c",
   "metadata": {},
   "outputs": [
    {
     "name": "stdout",
     "output_type": "stream",
     "text": [
      "Alert!!!!!!\n",
      "Alert!!!!!!\n",
      "Alert!!!!!!\n",
      "Alert!!!!!!\n"
     ]
    }
   ],
   "source": [
    "# Data Preprocessing Function\n",
    "def grayscale(img):\n",
    "    img = cv2.cvtColor(img, cv2.COLOR_BGR2GRAY)\n",
    "    return img\n",
    "\n",
    "\n",
    "def equalize(img):\n",
    "    img = cv2.equalizeHist(img)\n",
    "    return img\n",
    "\n",
    "\n",
    "def preprocessing(img):\n",
    "    img = grayscale(img)  # CONVERT TO GRAYSCALE\n",
    "    img = equalize(img)  # STANDARDIZE THE LIGHTING IN AN IMAGE\n",
    "    img = img / 255  # TO NORMALIZE VALUES BETWEEN 0 AND 1 INSTEAD OF 0 TO 255\n",
    "    return img\n",
    "\n",
    "# webcam frame is inputted into function\n",
    "def eye_cropper(frame):\n",
    "    \n",
    "        \n",
    "    # variable for facial feature coordinates\n",
    "    facial_features_list = face_recognition.face_landmarks(frame)\n",
    "\n",
    "    # create a placeholder list for the eye coordinates\n",
    "    # and append coordinates for eyes to list unless eyes\n",
    "    # weren't found by facial recognition\n",
    "    try:\n",
    "        eye = facial_features_list[0]['left_eye']\n",
    "    except:\n",
    "        try:\n",
    "            eye = facial_features_list[0]['right_eye']\n",
    "        except:\n",
    "            return\n",
    "    \n",
    "    # establish the max x and y coordinates of the eye\n",
    "    x_max = max([coordinate[0] for coordinate in eye])\n",
    "    x_min = min([coordinate[0] for coordinate in eye])\n",
    "    y_max = max([coordinate[1] for coordinate in eye])\n",
    "    y_min = min([coordinate[1] for coordinate in eye])\n",
    "\n",
    "    # establish the range of x and y coordinates\n",
    "    x_range = x_max - x_min\n",
    "    y_range = y_max - y_min\n",
    "\n",
    "    if x_range > y_range:\n",
    "        right = round(.5*x_range) + x_max\n",
    "        left = x_min - round(.5*x_range)\n",
    "        bottom = round((((right-left) - y_range))/2) + y_max\n",
    "        top = y_min - round((((right-left) - y_range))/2)\n",
    "    else:\n",
    "        bottom = round(.5*y_range) + y_max\n",
    "        top = y_min - round(.5*y_range)\n",
    "        right = round((((bottom-top) - x_range))/2) + x_max\n",
    "        left = x_min - round((((bottom-top) - x_range))/2)\n",
    "\n",
    "    # crop the image according to the coordinates determined above\n",
    "    cropped = frame[top:(bottom + 1), left:(right + 1)]\n",
    "\n",
    "    # resize the image\n",
    "    image_for_prediction = cv2.resize(cropped, (80,80))\n",
    "    \n",
    "\n",
    "    return image_for_prediction\n",
    "\n",
    "\n",
    "# initiate webcam\n",
    "cap = cv2.VideoCapture(0)\n",
    "w = cap.get(cv2.CAP_PROP_FRAME_WIDTH)\n",
    "h = cap.get(cv2.CAP_PROP_FRAME_HEIGHT)\n",
    "\n",
    "# set a counter\n",
    "counter = 0\n",
    "\n",
    "# create a while loop that runs while webcam is in use\n",
    "while True:\n",
    "\n",
    "    # capture frames being outputted by webcam\n",
    "    ret, frame = cap.read()\n",
    "    # use only every other frame to manage speed and memory usage\n",
    "    frame_count = 0\n",
    "    if frame_count == 0:\n",
    "        frame_count += 1\n",
    "        pass\n",
    "    else:\n",
    "        count = 0\n",
    "        continue\n",
    "\n",
    "    try:\n",
    "        # function called on the frame\n",
    "        image_for_prediction = eye_cropper(frame)\n",
    "        # Image Preprocessing\n",
    "        image_for_prediction=preprocessing(image_for_prediction)\n",
    "        image_for_prediction = image_for_prediction.reshape(-1, 80, 80, 1)\n",
    "\n",
    "        # get prediction from model\n",
    "\n",
    "        prediction = eye_model.predict(image_for_prediction)\n",
    "        #print(prediction)\n",
    "    except:\n",
    "        continue\n",
    "    \n",
    "    # Based on prediction, display either \"Open Eyes\" or \"Closed Eyes\"\n",
    "    if  np.argmax(prediction) < 0.5:\n",
    "        counter = 0\n",
    "        status = 'Open'\n",
    "\n",
    "        cv2.rectangle(frame, (round(w/2) - 110,20), (round(w/2) + 110, 80), (38,38,38), -1)\n",
    "\n",
    "        cv2.putText(frame, status, (round(w/2)-80,70), cv2.FONT_HERSHEY_SIMPLEX, 2, (0,255,0), 2, cv2.LINE_4)\n",
    "        x1, y1,w1,h1 = 0,0,175,75\n",
    "        \n",
    "    else:\n",
    "        counter = counter + 1\n",
    "        status = 'Closed'\n",
    "\n",
    "        cv2.rectangle(frame, (round(w/2) - 110,20), (round(w/2) + 110, 80), (38,38,38), -1)\n",
    "\n",
    "        cv2.putText(frame, status, (round(w/2)-104,70), cv2.FONT_HERSHEY_SIMPLEX, 2, (0,0,255), 2, cv2.LINE_4)\n",
    "        x1, y1,w1,h1 = 0,0,175,75\n",
    "        ## Draw black background rectangle\n",
    "        \n",
    "        # if the counter is greater than 3, play and show alert that user is asleep\n",
    "        if counter > 2:\n",
    "\n",
    "            ## Draw black background rectangle\n",
    "            cv2.rectangle(frame, (round(w/2) - 160, round(h) - 200), (round(w/2) + 160, round(h) - 120), (0,0,255), -1)\n",
    "            cv2.putText(frame, 'DRIVER SLEEPING', (round(w/2)-136,round(h) - 146), cv2.FONT_HERSHEY_SIMPLEX, 1, (0,0,0), 2, cv2.LINE_4)\n",
    "            cv2.imshow('Drowsiness Detection', frame)\n",
    "            k = cv2.waitKey(1)\n",
    "            print(\"Alert!!!!!!\")\n",
    "            counter = 1\n",
    "            continue\n",
    "    \n",
    "    cv2.imshow('Drowsiness Detection', frame)\n",
    "    k = cv2.waitKey(1)\n",
    "    if k == ord(' '): # PRESS SPACEBAR TO EXIT THE WINDOW(PREDICTION)\n",
    "        break\n",
    "cap.release()\n",
    "cv2.destroyAllWindows()"
   ]
  },
  {
   "cell_type": "code",
   "execution_count": null,
   "id": "21bafa20",
   "metadata": {},
   "outputs": [],
   "source": [
    " "
   ]
  }
 ],
 "metadata": {
  "kernelspec": {
   "display_name": "Python 3 (ipykernel)",
   "language": "python",
   "name": "python3"
  },
  "language_info": {
   "codemirror_mode": {
    "name": "ipython",
    "version": 3
   },
   "file_extension": ".py",
   "mimetype": "text/x-python",
   "name": "python",
   "nbconvert_exporter": "python",
   "pygments_lexer": "ipython3",
   "version": "3.9.12"
  }
 },
 "nbformat": 4,
 "nbformat_minor": 5
}
